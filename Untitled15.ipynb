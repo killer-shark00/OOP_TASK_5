{
  "nbformat": 4,
  "nbformat_minor": 0,
  "metadata": {
    "colab": {
      "name": "Untitled15.ipynb",
      "provenance": [],
      "collapsed_sections": [],
      "mount_file_id": "1T7PD6R5OWs1Qrx_UJ6VTche6y6BJyYP8",
      "authorship_tag": "ABX9TyOO/4mHFz/FJka8a0H79dog",
      "include_colab_link": true
    },
    "kernelspec": {
      "name": "python3",
      "display_name": "Python 3"
    },
    "language_info": {
      "name": "python"
    }
  },
  "cells": [
    {
      "cell_type": "markdown",
      "metadata": {
        "id": "view-in-github",
        "colab_type": "text"
      },
      "source": [
        "<a href=\"https://colab.research.google.com/github/killer-shark00/OOP_TASK_4/blob/main/Untitled15.ipynb\" target=\"_parent\"><img src=\"https://colab.research.google.com/assets/colab-badge.svg\" alt=\"Open In Colab\"/></a>"
      ]
    },
    {
      "cell_type": "markdown",
      "metadata": {
        "id": "JgF2j6-bR-2r"
      },
      "source": [
        "### Q1"
      ]
    },
    {
      "cell_type": "code",
      "metadata": {
        "id": "FjtzzYcBLsJ5",
        "colab": {
          "base_uri": "https://localhost:8080/"
        },
        "outputId": "1a9f6c58-5cea-4601-ebb0-4ad8207b8a03"
      },
      "source": [
        "class Shape():\n",
        "  def area(self):\n",
        "    pass\n",
        "\n",
        "class Circle(Shape):\n",
        "  def area(self):\n",
        "    print(\"AREA OF CIRCLE IS 2*pi*radius\")\n",
        "\n",
        "class Rectangle(Shape):\n",
        "  def area(self):\n",
        "    print(\"AREA OF rectangle IS length*breadth\")\n",
        "\n",
        "class Square(Shape):\n",
        "  def area(self):\n",
        "    print(\"AREA OF Square IS side*side\")\n",
        "\n",
        "obj = Circle()\n",
        "obj1 = Rectangle()\n",
        "obj2 = Square()\n",
        "\n",
        "obj.area()\n",
        "obj1.area()\n",
        "obj2.area()"
      ],
      "execution_count": null,
      "outputs": [
        {
          "output_type": "stream",
          "name": "stdout",
          "text": [
            "AREA OF CIRCLE IS 2*pi*radius\n",
            "AREA OF rectangle IS length*breadth\n",
            "AREA OF Square IS side*side\n"
          ]
        }
      ]
    },
    {
      "cell_type": "markdown",
      "metadata": {
        "id": "m2wirCcFR7_L"
      },
      "source": [
        "### Q2"
      ]
    },
    {
      "cell_type": "code",
      "metadata": {
        "colab": {
          "base_uri": "https://localhost:8080/"
        },
        "id": "pZEQ4DTxRxDe",
        "outputId": "ee80d340-2723-499a-de9e-5ff7d2059157"
      },
      "source": [
        "class Travel():\n",
        "  def __init__(self,nop, mode, dis_travel):\n",
        "    self._private__nop = nop\n",
        "    self.mode = mode\n",
        "    self.dis_travel = dis_travel\n",
        "\n",
        "class Train(Travel):\n",
        "  def Cost(self):\n",
        "    return round( self._private__nop * 60)\n",
        "\n",
        "class Bus(Travel):\n",
        "  def Cost(self):\n",
        "    return round(self._private__nop * 100)\n",
        "\n",
        "obj = Train(5 ,\"Train\", 50)\n",
        "obj1 = Bus(5, \"BUS\", 50)\n",
        "obj.Cost\n",
        "obj1.Cost"
      ],
      "execution_count": 11,
      "outputs": [
        {
          "output_type": "execute_result",
          "data": {
            "text/plain": [
              "<bound method Bus.Cost of <__main__.Bus object at 0x7fb2efc9d910>>"
            ]
          },
          "metadata": {},
          "execution_count": 11
        }
      ]
    },
    {
      "cell_type": "code",
      "metadata": {
        "id": "9SSW7nnIblS6"
      },
      "source": [
        ""
      ],
      "execution_count": null,
      "outputs": []
    },
    {
      "cell_type": "markdown",
      "metadata": {
        "id": "Z0AHoMFpR4vd"
      },
      "source": [
        "### Q3"
      ]
    },
    {
      "cell_type": "code",
      "metadata": {
        "colab": {
          "base_uri": "https://localhost:8080/"
        },
        "id": "jsi5cjZfcyT_",
        "outputId": "5077ae10-a7b3-4f6d-aa3e-4b77e086ab90"
      },
      "source": [
        "class Car():\n",
        "  def __init__(self,model_no):\n",
        "    self.model_no = model_no\n",
        "  def print(self):\n",
        "    print( \"this is me,\",self.model_no)\n",
        "\n",
        "c1 = Car(5432)\n",
        "c2 = Car(2345)\n",
        "print(c1 , \"#\",c2)\n",
        "a = c1.print\n",
        "b= c2.print\n",
        "temp = a\n",
        "a = b\n",
        "b = temp \n",
        "\n",
        "print( a , b)"
      ],
      "execution_count": null,
      "outputs": [
        {
          "output_type": "stream",
          "name": "stdout",
          "text": [
            "<__main__.Car object at 0x7f2a0c61a910> # <__main__.Car object at 0x7f2a0c61ae10>\n",
            "<bound method Car.print of <__main__.Car object at 0x7f2a0c61ae10>> <bound method Car.print of <__main__.Car object at 0x7f2a0c61a910>>\n"
          ]
        }
      ]
    }
  ]
}